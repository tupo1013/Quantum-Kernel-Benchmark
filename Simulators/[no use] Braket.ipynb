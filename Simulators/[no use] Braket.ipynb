{
 "cells": [
  {
   "cell_type": "markdown",
   "id": "ad0df2f2",
   "metadata": {},
   "source": [
    "# Running Quantum Kernel SVM for Binary Classification on Braket #\n",
    "\n",
    "# NOTE: Time execution too long (20 data -> 11s)"
   ]
  },
  {
   "cell_type": "markdown",
   "id": "c91a77e2",
   "metadata": {},
   "source": [
    "## I. Import libraries"
   ]
  },
  {
   "cell_type": "markdown",
   "id": "8d016735",
   "metadata": {},
   "source": [
    "1. Import classical libraries (for machine learning)"
   ]
  },
  {
   "cell_type": "code",
   "execution_count": 25,
   "id": "0d129266",
   "metadata": {},
   "outputs": [],
   "source": [
    "import sys\n",
    "sys.path.append(\"../Help Function\")\n",
    "\n",
    "import make_data\n",
    "import classical_algo\n",
    "\n",
    "import time\n",
    "import tracemalloc\n",
    "import os\n",
    "import csv \n",
    "\n",
    "import numpy as np\n",
    "from sklearn.svm import SVC\n",
    "from sklearn.metrics import accuracy_score\n",
    "import matplotlib.pyplot as plt"
   ]
  },
  {
   "cell_type": "markdown",
   "id": "9cd9dca9",
   "metadata": {},
   "source": [
    "2. Import quantum libraries"
   ]
  },
  {
   "cell_type": "code",
   "execution_count": 26,
   "id": "54f59614",
   "metadata": {},
   "outputs": [],
   "source": [
    "from braket.circuits import Circuit\n",
    "from braket.devices import LocalSimulator\n",
    "from braket.circuits.result_types import StateVector\n",
    "from functools import lru_cache\n",
    "\n",
    "device = LocalSimulator(\"default\")"
   ]
  },
  {
   "cell_type": "markdown",
   "id": "0ac94104",
   "metadata": {},
   "source": [
    "## 2. Self - configure Feature Map"
   ]
  },
  {
   "cell_type": "markdown",
   "id": "a4cf2e95",
   "metadata": {},
   "source": [
    "We will choose ZFeatureMap (PauliFeatureMap with paulis = ['Z'], alpha = 1.0, reps = 1)\n",
    "\n",
    "The self-configure circuit will be based on circuit from Qiskit"
   ]
  },
  {
   "cell_type": "code",
   "execution_count": 27,
   "id": "86766491",
   "metadata": {},
   "outputs": [],
   "source": [
    "def ZFeatureMap(x, reps=1):\n",
    "    n_qubits = len(x)\n",
    "    circuit = Circuit()\n",
    "    for _ in range(reps):\n",
    "        for i in range(n_qubits):\n",
    "            circuit.h(i)\n",
    "        for i in range(n_qubits):\n",
    "            circuit.rz(i, x[i])\n",
    "    return circuit"
   ]
  },
  {
   "cell_type": "markdown",
   "id": "5c0e970c",
   "metadata": {},
   "source": [
    "## 3. Hybrid algorithm (classical SVM + quantum kernel)"
   ]
  },
  {
   "cell_type": "markdown",
   "id": "af8b1162",
   "metadata": {},
   "source": [
    "1. Help - function if use inner product to calculate quantum kernel element (running 2 half-circuit)"
   ]
  },
  {
   "cell_type": "code",
   "execution_count": 28,
   "id": "810dc78d",
   "metadata": {},
   "outputs": [],
   "source": [
    "@lru_cache(maxsize=None)\n",
    "def half_circuit(reps, x_tuple):\n",
    "    x = np.array(x_tuple)\n",
    "    circ = ZFeatureMap(x, reps=reps)\n",
    "    circ.add_result_type(StateVector())\n",
    "    task = device.run(circ, shots=0)  \n",
    "    state_vector = task.result().result_types[0].value\n",
    "    return np.array(state_vector, dtype=complex)"
   ]
  },
  {
   "cell_type": "markdown",
   "id": "ddc52a4c",
   "metadata": {},
   "source": [
    "2. Help - function if DON'T use inner product (running full circuit)"
   ]
  },
  {
   "cell_type": "code",
   "execution_count": 29,
   "id": "af6ad1ca",
   "metadata": {},
   "outputs": [],
   "source": [
    "@lru_cache(maxsize=None)\n",
    "def full_circuit(reps, first_tuple, sec_tuple):\n",
    "    x = np.array(first_tuple)\n",
    "    y = np.array(sec_tuple)\n",
    "\n",
    "    circ_x = ZFeatureMap(x, reps=reps)      \n",
    "    circ_y = ZFeatureMap(y, reps=reps)       \n",
    "    circ = circ_x + circ_y.adjoint()         \n",
    "\n",
    "    circ.add_result_type(StateVector())\n",
    "    task = device.run(circ, shots=0)\n",
    "    state_vector = task.result().result_types[0].value\n",
    "    return np.array(state_vector, dtype=complex)"
   ]
  },
  {
   "cell_type": "markdown",
   "id": "89483245",
   "metadata": {},
   "source": [
    "3. Compute Quantum Kernel Matrix"
   ]
  },
  {
   "cell_type": "code",
   "execution_count": 30,
   "id": "d470a0e9",
   "metadata": {},
   "outputs": [],
   "source": [
    "def quantum_kernel(reps, Xa, Xb=None, use_inner_product = False):\n",
    "    if Xb is None:\n",
    "        Xb = Xa\n",
    "    K = np.zeros((len(Xa), len(Xb)), dtype=float)\n",
    "    if use_inner_product:\n",
    "        for i, xi in enumerate(Xa):\n",
    "            si = half_circuit(reps, tuple(np.round(xi, 8)))\n",
    "            for j, xj in enumerate(Xb):\n",
    "                sj = half_circuit(reps, tuple(np.round(xj, 8)))\n",
    "                overlap = np.vdot(si, sj)\n",
    "                K[i, j] = np.abs(overlap)**2\n",
    "    else:\n",
    "        for i, xi in enumerate(Xa):\n",
    "            for j, xj in enumerate(Xb):\n",
    "                sij = full_circuit(reps, tuple(np.round(xi, 8)), tuple(np.round(xj, 8)))\n",
    "                K[i, j] = np.abs(sij[0])**2\n",
    "    return K"
   ]
  },
  {
   "cell_type": "markdown",
   "id": "99d6ca04",
   "metadata": {},
   "source": [
    "4. Compute quantum kernel and training SVM using quantum kernel"
   ]
  },
  {
   "cell_type": "code",
   "execution_count": 31,
   "id": "8510e166",
   "metadata": {},
   "outputs": [],
   "source": [
    "def hybrid_algo(data_train, data_test, label_train, label_test, reps, use_inner_product=False):\n",
    "    start = time.time()\n",
    "    tracemalloc.start()\n",
    "    \n",
    "    kernel_train = quantum_kernel(1, data_train, use_inner_product=use_inner_product)\n",
    "    kernel_test = quantum_kernel(1, data_test, data_train, use_inner_product=use_inner_product)\n",
    "\n",
    "    clf_quantum = SVC(kernel='precomputed')\n",
    "    clf_quantum.fit(kernel_train, label_train)\n",
    "    y_pred = clf_quantum.predict(kernel_test)\n",
    "    acc_quantum = accuracy_score(label_test, y_pred)\n",
    "\n",
    "    _, peak = tracemalloc.get_traced_memory()\n",
    "    tracemalloc.stop()\n",
    "    end = time.time()\n",
    "\n",
    "    return acc_quantum, end - start, peak"
   ]
  },
  {
   "cell_type": "markdown",
   "id": "ec134cb1",
   "metadata": {},
   "source": [
    "## 4. Run experiment"
   ]
  },
  {
   "cell_type": "code",
   "execution_count": 32,
   "id": "e2f09e6d",
   "metadata": {},
   "outputs": [
    {
     "name": "stdout",
     "output_type": "stream",
     "text": [
      "\n",
      "Classical encoding + classical SVM size 20: Round 1\n",
      "  Accuracy: 0.8333333333333334\n",
      "  Execution time (sec): 0.017525434494018555\n",
      "  Peak Memory Usage = 3.9683 MB\n",
      "\n",
      "ZFeatureMap encoding + classical SVM size 20: Round 1\n",
      "  Accuracy: 0.8333333333333334\n",
      "  Execution time (sec): 12.947168588638306\n",
      "  Peak Memory Usage = 1.0098 MB\n",
      "\n",
      "Classical encoding + classical SVM size 20: Round 2\n",
      "  Accuracy: 0.6666666666666666\n",
      "  Execution time (sec): 0.0006575584411621094\n",
      "  Peak Memory Usage = 0.0117 MB\n",
      "\n",
      "ZFeatureMap encoding + classical SVM size 20: Round 2\n",
      "  Accuracy: 0.6666666666666666\n",
      "  Execution time (sec): 13.644750833511353\n",
      "  Peak Memory Usage = 0.9638 MB\n",
      "\n",
      "Classical encoding + classical SVM size 30: Round 1\n",
      "  Accuracy: 0.8888888888888888\n",
      "  Execution time (sec): 0.0\n",
      "  Peak Memory Usage = 0.0127 MB\n",
      "\n",
      "ZFeatureMap encoding + classical SVM size 30: Round 1\n",
      "  Accuracy: 0.8888888888888888\n",
      "  Execution time (sec): 33.25578022003174\n",
      "  Peak Memory Usage = 2.5282 MB\n",
      "\n",
      "Classical encoding + classical SVM size 30: Round 2\n",
      "  Accuracy: 1.0\n",
      "  Execution time (sec): 0.005024433135986328\n",
      "  Peak Memory Usage = 0.0120 MB\n",
      "\n",
      "ZFeatureMap encoding + classical SVM size 30: Round 2\n",
      "  Accuracy: 1.0\n",
      "  Execution time (sec): 31.449661254882812\n",
      "  Peak Memory Usage = 1.8445 MB\n",
      "\n",
      "Classical encoding + classical SVM size 40: Round 1\n",
      "  Accuracy: 0.8333333333333334\n",
      "  Execution time (sec): 0.0011055469512939453\n",
      "  Peak Memory Usage = 0.0121 MB\n",
      "\n",
      "ZFeatureMap encoding + classical SVM size 40: Round 1\n",
      "  Accuracy: 0.9166666666666666\n",
      "  Execution time (sec): 55.32995653152466\n",
      "  Peak Memory Usage = 4.8330 MB\n",
      "\n",
      "Classical encoding + classical SVM size 40: Round 2\n",
      "  Accuracy: 0.8333333333333334\n",
      "  Execution time (sec): 0.005440473556518555\n",
      "  Peak Memory Usage = 0.0121 MB\n",
      "\n",
      "ZFeatureMap encoding + classical SVM size 40: Round 2\n",
      "  Accuracy: 0.8333333333333334\n",
      "  Execution time (sec): 56.3422966003418\n",
      "  Peak Memory Usage = 4.1740 MB\n",
      "\n",
      "Classical encoding + classical SVM size 50: Round 1\n",
      "  Accuracy: 1.0\n",
      "  Execution time (sec): 0.010837554931640625\n",
      "  Peak Memory Usage = 0.0120 MB\n",
      "\n",
      "ZFeatureMap encoding + classical SVM size 50: Round 1\n",
      "  Accuracy: 0.8\n",
      "  Execution time (sec): 98.62553787231445\n",
      "  Peak Memory Usage = 4.9600 MB\n",
      "\n",
      "Classical encoding + classical SVM size 50: Round 2\n",
      "  Accuracy: 0.8\n",
      "  Execution time (sec): 0.0\n",
      "  Peak Memory Usage = 0.0119 MB\n",
      "\n",
      "ZFeatureMap encoding + classical SVM size 50: Round 2\n",
      "  Accuracy: 0.8\n",
      "  Execution time (sec): 96.08501505851746\n",
      "  Peak Memory Usage = 4.9679 MB\n",
      "\n",
      "Classical encoding + classical SVM size 60: Round 1\n",
      "  Accuracy: 0.7222222222222222\n",
      "  Execution time (sec): 0.01828742027282715\n",
      "  Peak Memory Usage = 0.0121 MB\n",
      "\n",
      "ZFeatureMap encoding + classical SVM size 60: Round 1\n",
      "  Accuracy: 0.6666666666666666\n",
      "  Execution time (sec): 135.40160608291626\n",
      "  Peak Memory Usage = 5.7478 MB\n",
      "\n",
      "Classical encoding + classical SVM size 60: Round 2\n",
      "  Accuracy: 0.9444444444444444\n",
      "  Execution time (sec): 0.006944179534912109\n",
      "  Peak Memory Usage = 0.0124 MB\n",
      "\n",
      "ZFeatureMap encoding + classical SVM size 60: Round 2\n",
      "  Accuracy: 0.9444444444444444\n",
      "  Execution time (sec): 131.196457862854\n",
      "  Peak Memory Usage = 5.4966 MB\n",
      "\n",
      "Classical encoding + classical SVM size 70: Round 1\n",
      "  Accuracy: 0.8095238095238095\n",
      "  Execution time (sec): 0.010668754577636719\n",
      "  Peak Memory Usage = 0.0127 MB\n"
     ]
    },
    {
     "ename": "KeyboardInterrupt",
     "evalue": "",
     "output_type": "error",
     "traceback": [
      "\u001b[31m---------------------------------------------------------------------------\u001b[39m",
      "\u001b[31mKeyboardInterrupt\u001b[39m                         Traceback (most recent call last)",
      "\u001b[36mCell\u001b[39m\u001b[36m \u001b[39m\u001b[32mIn[32]\u001b[39m\u001b[32m, line 17\u001b[39m\n\u001b[32m     15\u001b[39m     acc, time_exec, peak_mem = classical_algo.classic(x_train, x_test, y_train, y_test)\n\u001b[32m     16\u001b[39m \u001b[38;5;28;01melse\u001b[39;00m:\n\u001b[32m---> \u001b[39m\u001b[32m17\u001b[39m     acc, time_exec, peak_mem = \u001b[43mhybrid_algo\u001b[49m\u001b[43m(\u001b[49m\u001b[43mx_train\u001b[49m\u001b[43m,\u001b[49m\u001b[43m \u001b[49m\u001b[43mx_test\u001b[49m\u001b[43m,\u001b[49m\u001b[43m \u001b[49m\u001b[43my_train\u001b[49m\u001b[43m,\u001b[49m\u001b[43m \u001b[49m\u001b[43my_test\u001b[49m\u001b[43m,\u001b[49m\u001b[43m \u001b[49m\u001b[43mreps\u001b[49m\u001b[43m=\u001b[49m\u001b[32;43m1\u001b[39;49m\u001b[43m,\u001b[49m\u001b[43m \u001b[49m\u001b[43muse_inner_product\u001b[49m\u001b[43m=\u001b[49m\u001b[43m \u001b[49m\u001b[38;5;28;43;01mFalse\u001b[39;49;00m\u001b[43m)\u001b[49m\n\u001b[32m     19\u001b[39m \u001b[38;5;28mprint\u001b[39m(\u001b[33m\"\u001b[39m\u001b[38;5;130;01m\\n\u001b[39;00m\u001b[38;5;132;01m{}\u001b[39;00m\u001b[33m encoding + classical SVM size \u001b[39m\u001b[38;5;132;01m{}\u001b[39;00m\u001b[33m: Round \u001b[39m\u001b[38;5;132;01m{}\u001b[39;00m\u001b[33m\"\u001b[39m.format(option,size, \u001b[38;5;28mround\u001b[39m + \u001b[32m1\u001b[39m))\n\u001b[32m     20\u001b[39m \u001b[38;5;28mprint\u001b[39m(\u001b[33m\"\u001b[39m\u001b[33m  Accuracy:\u001b[39m\u001b[33m\"\u001b[39m, acc)\n",
      "\u001b[36mCell\u001b[39m\u001b[36m \u001b[39m\u001b[32mIn[31]\u001b[39m\u001b[32m, line 6\u001b[39m, in \u001b[36mhybrid_algo\u001b[39m\u001b[34m(data_train, data_test, label_train, label_test, reps, use_inner_product)\u001b[39m\n\u001b[32m      3\u001b[39m tracemalloc.start()\n\u001b[32m      5\u001b[39m kernel_train = quantum_kernel(\u001b[32m1\u001b[39m, data_train, use_inner_product=use_inner_product)\n\u001b[32m----> \u001b[39m\u001b[32m6\u001b[39m kernel_test = \u001b[43mquantum_kernel\u001b[49m\u001b[43m(\u001b[49m\u001b[32;43m1\u001b[39;49m\u001b[43m,\u001b[49m\u001b[43m \u001b[49m\u001b[43mdata_test\u001b[49m\u001b[43m,\u001b[49m\u001b[43m \u001b[49m\u001b[43mdata_train\u001b[49m\u001b[43m,\u001b[49m\u001b[43m \u001b[49m\u001b[43muse_inner_product\u001b[49m\u001b[43m=\u001b[49m\u001b[43muse_inner_product\u001b[49m\u001b[43m)\u001b[49m\n\u001b[32m      8\u001b[39m clf_quantum = SVC(kernel=\u001b[33m'\u001b[39m\u001b[33mprecomputed\u001b[39m\u001b[33m'\u001b[39m)\n\u001b[32m      9\u001b[39m clf_quantum.fit(kernel_train, label_train)\n",
      "\u001b[36mCell\u001b[39m\u001b[36m \u001b[39m\u001b[32mIn[30]\u001b[39m\u001b[32m, line 15\u001b[39m, in \u001b[36mquantum_kernel\u001b[39m\u001b[34m(reps, Xa, Xb, use_inner_product)\u001b[39m\n\u001b[32m     13\u001b[39m     \u001b[38;5;28;01mfor\u001b[39;00m i, xi \u001b[38;5;129;01min\u001b[39;00m \u001b[38;5;28menumerate\u001b[39m(Xa):\n\u001b[32m     14\u001b[39m         \u001b[38;5;28;01mfor\u001b[39;00m j, xj \u001b[38;5;129;01min\u001b[39;00m \u001b[38;5;28menumerate\u001b[39m(Xb):\n\u001b[32m---> \u001b[39m\u001b[32m15\u001b[39m             sij = \u001b[43mfull_circuit\u001b[49m\u001b[43m(\u001b[49m\u001b[43mreps\u001b[49m\u001b[43m,\u001b[49m\u001b[43m \u001b[49m\u001b[38;5;28;43mtuple\u001b[39;49m\u001b[43m(\u001b[49m\u001b[43mnp\u001b[49m\u001b[43m.\u001b[49m\u001b[43mround\u001b[49m\u001b[43m(\u001b[49m\u001b[43mxi\u001b[49m\u001b[43m,\u001b[49m\u001b[43m \u001b[49m\u001b[32;43m8\u001b[39;49m\u001b[43m)\u001b[49m\u001b[43m)\u001b[49m\u001b[43m,\u001b[49m\u001b[43m \u001b[49m\u001b[38;5;28;43mtuple\u001b[39;49m\u001b[43m(\u001b[49m\u001b[43mnp\u001b[49m\u001b[43m.\u001b[49m\u001b[43mround\u001b[49m\u001b[43m(\u001b[49m\u001b[43mxj\u001b[49m\u001b[43m,\u001b[49m\u001b[43m \u001b[49m\u001b[32;43m8\u001b[39;49m\u001b[43m)\u001b[49m\u001b[43m)\u001b[49m\u001b[43m)\u001b[49m\n\u001b[32m     16\u001b[39m             K[i, j] = np.abs(sij[\u001b[32m0\u001b[39m])**\u001b[32m2\u001b[39m\n\u001b[32m     17\u001b[39m \u001b[38;5;28;01mreturn\u001b[39;00m K\n",
      "\u001b[36mCell\u001b[39m\u001b[36m \u001b[39m\u001b[32mIn[29]\u001b[39m\u001b[32m, line 11\u001b[39m, in \u001b[36mfull_circuit\u001b[39m\u001b[34m(reps, first_tuple, sec_tuple)\u001b[39m\n\u001b[32m      8\u001b[39m circ = circ_x + circ_y.adjoint()         \n\u001b[32m     10\u001b[39m circ.add_result_type(StateVector())\n\u001b[32m---> \u001b[39m\u001b[32m11\u001b[39m task = \u001b[43mdevice\u001b[49m\u001b[43m.\u001b[49m\u001b[43mrun\u001b[49m\u001b[43m(\u001b[49m\u001b[43mcirc\u001b[49m\u001b[43m,\u001b[49m\u001b[43m \u001b[49m\u001b[43mshots\u001b[49m\u001b[43m=\u001b[49m\u001b[32;43m0\u001b[39;49m\u001b[43m)\u001b[49m\n\u001b[32m     12\u001b[39m state_vector = task.result().result_types[\u001b[32m0\u001b[39m].value\n\u001b[32m     13\u001b[39m \u001b[38;5;28;01mreturn\u001b[39;00m np.array(state_vector, dtype=\u001b[38;5;28mcomplex\u001b[39m)\n",
      "\u001b[36mFile \u001b[39m\u001b[32mc:\\Users\\USER\\AppData\\Local\\Programs\\Python\\Python312\\Lib\\site-packages\\braket\\devices\\local_simulator.py:130\u001b[39m, in \u001b[36mLocalSimulator.run\u001b[39m\u001b[34m(self, task_specification, shots, inputs, *args, **kwargs)\u001b[39m\n\u001b[32m    128\u001b[39m payload = \u001b[38;5;28mself\u001b[39m._construct_payload(task_specification, inputs, shots)\n\u001b[32m    129\u001b[39m shots = shots \u001b[38;5;28;01mif\u001b[39;00m shots \u001b[38;5;129;01mis\u001b[39;00m \u001b[38;5;129;01mnot\u001b[39;00m \u001b[38;5;28;01mNone\u001b[39;00m \u001b[38;5;28;01melse\u001b[39;00m \u001b[38;5;28mself\u001b[39m._default_shots(task_specification)\n\u001b[32m--> \u001b[39m\u001b[32m130\u001b[39m result = \u001b[38;5;28;43mself\u001b[39;49m\u001b[43m.\u001b[49m\u001b[43m_delegate\u001b[49m\u001b[43m.\u001b[49m\u001b[43mrun\u001b[49m\u001b[43m(\u001b[49m\u001b[43mpayload\u001b[49m\u001b[43m,\u001b[49m\u001b[43m \u001b[49m\u001b[43m*\u001b[49m\u001b[43margs\u001b[49m\u001b[43m,\u001b[49m\u001b[43m \u001b[49m\u001b[43mshots\u001b[49m\u001b[43m=\u001b[49m\u001b[43mshots\u001b[49m\u001b[43m,\u001b[49m\u001b[43m \u001b[49m\u001b[43m*\u001b[49m\u001b[43m*\u001b[49m\u001b[43mkwargs\u001b[49m\u001b[43m)\u001b[49m\n\u001b[32m    131\u001b[39m \u001b[38;5;28;01mreturn\u001b[39;00m LocalQuantumTask(\n\u001b[32m    132\u001b[39m     \u001b[38;5;28mself\u001b[39m._to_result_object(result, task_specification=task_specification)\n\u001b[32m    133\u001b[39m )\n",
      "\u001b[36mFile \u001b[39m\u001b[32mc:\\Users\\USER\\AppData\\Local\\Programs\\Python\\Python312\\Lib\\site-packages\\braket\\default_simulator\\simulator.py:158\u001b[39m, in \u001b[36mBaseLocalSimulator.run\u001b[39m\u001b[34m(self, circuit_ir, *args, **kwargs)\u001b[39m\n\u001b[32m    135\u001b[39m \u001b[38;5;250m\u001b[39m\u001b[33;03m\"\"\"\u001b[39;00m\n\u001b[32m    136\u001b[39m \u001b[33;03mSimulate a program using either OpenQASM or Jaqcd.\u001b[39;00m\n\u001b[32m    137\u001b[39m \n\u001b[32m   (...)\u001b[39m\u001b[32m    155\u001b[39m \u001b[33;03m        are requested when shots>0.\u001b[39;00m\n\u001b[32m    156\u001b[39m \u001b[33;03m\"\"\"\u001b[39;00m\n\u001b[32m    157\u001b[39m \u001b[38;5;28;01mif\u001b[39;00m \u001b[38;5;28misinstance\u001b[39m(circuit_ir, OpenQASMProgram):\n\u001b[32m--> \u001b[39m\u001b[32m158\u001b[39m     \u001b[38;5;28;01mreturn\u001b[39;00m \u001b[38;5;28;43mself\u001b[39;49m\u001b[43m.\u001b[49m\u001b[43mrun_openqasm\u001b[49m\u001b[43m(\u001b[49m\u001b[43mcircuit_ir\u001b[49m\u001b[43m,\u001b[49m\u001b[43m \u001b[49m\u001b[43m*\u001b[49m\u001b[43margs\u001b[49m\u001b[43m,\u001b[49m\u001b[43m \u001b[49m\u001b[43m*\u001b[49m\u001b[43m*\u001b[49m\u001b[43mkwargs\u001b[49m\u001b[43m)\u001b[49m\n\u001b[32m    159\u001b[39m \u001b[38;5;28;01melif\u001b[39;00m \u001b[38;5;28misinstance\u001b[39m(circuit_ir, ProgramSet):\n\u001b[32m    160\u001b[39m     \u001b[38;5;28;01mreturn\u001b[39;00m \u001b[38;5;28mself\u001b[39m.run_program_set(circuit_ir, *args, **kwargs)\n",
      "\u001b[36mFile \u001b[39m\u001b[32mc:\\Users\\USER\\AppData\\Local\\Programs\\Python\\Python312\\Lib\\site-packages\\braket\\default_simulator\\simulator.py:701\u001b[39m, in \u001b[36mBaseLocalSimulator.run_openqasm\u001b[39m\u001b[34m(self, openqasm_ir, shots, batch_size)\u001b[39m\n\u001b[32m    675\u001b[39m \u001b[38;5;28;01mdef\u001b[39;00m\u001b[38;5;250m \u001b[39m\u001b[34mrun_openqasm\u001b[39m(\n\u001b[32m    676\u001b[39m     \u001b[38;5;28mself\u001b[39m,\n\u001b[32m    677\u001b[39m     openqasm_ir: OpenQASMProgram,\n\u001b[32m   (...)\u001b[39m\u001b[32m    680\u001b[39m     batch_size: \u001b[38;5;28mint\u001b[39m = \u001b[32m1\u001b[39m,\n\u001b[32m    681\u001b[39m ) -> GateModelTaskResult:\n\u001b[32m    682\u001b[39m \u001b[38;5;250m    \u001b[39m\u001b[33;03m\"\"\"Executes the circuit specified by the supplied `circuit_ir` on the simulator.\u001b[39;00m\n\u001b[32m    683\u001b[39m \n\u001b[32m    684\u001b[39m \u001b[33;03m    Args:\u001b[39;00m\n\u001b[32m   (...)\u001b[39m\u001b[32m    699\u001b[39m \u001b[33;03m            are requested when shots>0.\u001b[39;00m\n\u001b[32m    700\u001b[39m \u001b[33;03m    \"\"\"\u001b[39;00m\n\u001b[32m--> \u001b[39m\u001b[32m701\u001b[39m     circuit = \u001b[38;5;28;43mself\u001b[39;49m\u001b[43m.\u001b[49m\u001b[43mparse_program\u001b[49m\u001b[43m(\u001b[49m\u001b[43mopenqasm_ir\u001b[49m\u001b[43m)\u001b[49m.circuit\n\u001b[32m    702\u001b[39m     qubit_map = BaseLocalSimulator._map_circuit_to_contiguous_qubits(circuit)\n\u001b[32m    703\u001b[39m     qubit_count = circuit.num_qubits\n",
      "\u001b[36mFile \u001b[39m\u001b[32mc:\\Users\\USER\\AppData\\Local\\Programs\\Python\\Python312\\Lib\\site-packages\\braket\\default_simulator\\simulator.py:124\u001b[39m, in \u001b[36mOpenQASMSimulator.parse_program\u001b[39m\u001b[34m(self, program)\u001b[39m\n\u001b[32m    122\u001b[39m is_file = program.source.endswith(\u001b[33m\"\u001b[39m\u001b[33m.qasm\u001b[39m\u001b[33m\"\u001b[39m)\n\u001b[32m    123\u001b[39m interpreter = Interpreter(\u001b[38;5;28mself\u001b[39m.create_program_context())\n\u001b[32m--> \u001b[39m\u001b[32m124\u001b[39m \u001b[38;5;28;01mreturn\u001b[39;00m \u001b[43minterpreter\u001b[49m\u001b[43m.\u001b[49m\u001b[43mrun\u001b[49m\u001b[43m(\u001b[49m\n\u001b[32m    125\u001b[39m \u001b[43m    \u001b[49m\u001b[43msource\u001b[49m\u001b[43m=\u001b[49m\u001b[43mprogram\u001b[49m\u001b[43m.\u001b[49m\u001b[43msource\u001b[49m\u001b[43m,\u001b[49m\n\u001b[32m    126\u001b[39m \u001b[43m    \u001b[49m\u001b[43minputs\u001b[49m\u001b[43m=\u001b[49m\u001b[43mprogram\u001b[49m\u001b[43m.\u001b[49m\u001b[43minputs\u001b[49m\u001b[43m,\u001b[49m\n\u001b[32m    127\u001b[39m \u001b[43m    \u001b[49m\u001b[43mis_file\u001b[49m\u001b[43m=\u001b[49m\u001b[43mis_file\u001b[49m\u001b[43m,\u001b[49m\n\u001b[32m    128\u001b[39m \u001b[43m\u001b[49m\u001b[43m)\u001b[49m\n",
      "\u001b[36mFile \u001b[39m\u001b[32mc:\\Users\\USER\\AppData\\Local\\Programs\\Python\\Python312\\Lib\\site-packages\\braket\\default_simulator\\openqasm\\interpreter.py:147\u001b[39m, in \u001b[36mInterpreter.run\u001b[39m\u001b[34m(self, source, inputs, is_file)\u001b[39m\n\u001b[32m    144\u001b[39m     \u001b[38;5;28;01mwith\u001b[39;00m \u001b[38;5;28mopen\u001b[39m(source, encoding=\u001b[33m\"\u001b[39m\u001b[33mutf-8\u001b[39m\u001b[33m\"\u001b[39m) \u001b[38;5;28;01mas\u001b[39;00m f:\n\u001b[32m    145\u001b[39m         source = f.read()\n\u001b[32m--> \u001b[39m\u001b[32m147\u001b[39m program = \u001b[43mparse\u001b[49m\u001b[43m(\u001b[49m\u001b[43msource\u001b[49m\u001b[43m)\u001b[49m\n\u001b[32m    148\u001b[39m \u001b[38;5;28mself\u001b[39m._uses_advanced_language_features = \u001b[38;5;28;01mFalse\u001b[39;00m\n\u001b[32m    149\u001b[39m \u001b[38;5;28mself\u001b[39m.visit(program)\n",
      "\u001b[36mFile \u001b[39m\u001b[32mc:\\Users\\USER\\AppData\\Local\\Programs\\Python\\Python312\\Lib\\site-packages\\braket\\default_simulator\\openqasm\\parser\\openqasm_parser.py:94\u001b[39m, in \u001b[36mparse\u001b[39m\u001b[34m(input_, permissive)\u001b[39m\n\u001b[32m     92\u001b[39m \u001b[38;5;28;01mexcept\u001b[39;00m (RecognitionException, ParseCancellationException) \u001b[38;5;28;01mas\u001b[39;00m exc:\n\u001b[32m     93\u001b[39m     \u001b[38;5;28;01mraise\u001b[39;00m QASM3ParsingError() \u001b[38;5;28;01mfrom\u001b[39;00m\u001b[38;5;250m \u001b[39m\u001b[34;01mexc\u001b[39;00m\n\u001b[32m---> \u001b[39m\u001b[32m94\u001b[39m \u001b[38;5;28;01mreturn\u001b[39;00m \u001b[43mQASMNodeVisitor\u001b[49m\u001b[43m(\u001b[49m\u001b[43m)\u001b[49m\u001b[43m.\u001b[49m\u001b[43mvisitProgram\u001b[49m\u001b[43m(\u001b[49m\u001b[43mtree\u001b[49m\u001b[43m)\u001b[49m\n",
      "\u001b[36mFile \u001b[39m\u001b[32mc:\\Users\\USER\\AppData\\Local\\Programs\\Python\\Python312\\Lib\\site-packages\\braket\\default_simulator\\openqasm\\parser\\openqasm_parser.py:124\u001b[39m, in \u001b[36mspan.<locals>.wrapped\u001b[39m\u001b[34m(*args, **kwargs)\u001b[39m\n\u001b[32m    122\u001b[39m \u001b[38;5;28;01mdef\u001b[39;00m\u001b[38;5;250m \u001b[39m\u001b[34mwrapped\u001b[39m(*args, **kwargs):\n\u001b[32m    123\u001b[39m     span = get_span(args[\u001b[32m1\u001b[39m])  \u001b[38;5;66;03m# args[1] is ctx\u001b[39;00m\n\u001b[32m--> \u001b[39m\u001b[32m124\u001b[39m     node = \u001b[43mfunc\u001b[49m\u001b[43m(\u001b[49m\u001b[43m*\u001b[49m\u001b[43margs\u001b[49m\u001b[43m,\u001b[49m\u001b[43m \u001b[49m\u001b[43m*\u001b[49m\u001b[43m*\u001b[49m\u001b[43mkwargs\u001b[49m\u001b[43m)\u001b[49m\n\u001b[32m    125\u001b[39m     \u001b[38;5;28;01mif\u001b[39;00m node \u001b[38;5;129;01mis\u001b[39;00m \u001b[38;5;28;01mNone\u001b[39;00m:\n\u001b[32m    126\u001b[39m         \u001b[38;5;28;01mraise\u001b[39;00m \u001b[38;5;167;01mValueError\u001b[39;00m(\u001b[33mf\u001b[39m\u001b[33m\"\u001b[39m\u001b[33mNone encountered at \u001b[39m\u001b[38;5;132;01m{\u001b[39;00mspan\u001b[38;5;132;01m}\u001b[39;00m\u001b[33m\"\u001b[39m)\n",
      "\u001b[36mFile \u001b[39m\u001b[32mc:\\Users\\USER\\AppData\\Local\\Programs\\Python\\Python312\\Lib\\site-packages\\braket\\default_simulator\\openqasm\\parser\\openqasm_parser.py:189\u001b[39m, in \u001b[36mQASMNodeVisitor.visitProgram\u001b[39m\u001b[34m(self, ctx)\u001b[39m\n\u001b[32m    187\u001b[39m \u001b[38;5;28;01mwith\u001b[39;00m \u001b[38;5;28mself\u001b[39m._push_context(ctx):\n\u001b[32m    188\u001b[39m     version = ctx.version().VersionSpecifier().getText() \u001b[38;5;28;01mif\u001b[39;00m ctx.version() \u001b[38;5;28;01melse\u001b[39;00m \u001b[38;5;28;01mNone\u001b[39;00m\n\u001b[32m--> \u001b[39m\u001b[32m189\u001b[39m     statements = [\u001b[38;5;28;43mself\u001b[39;49m\u001b[43m.\u001b[49m\u001b[43mvisit\u001b[49m\u001b[43m(\u001b[49m\u001b[43mstatement\u001b[49m\u001b[43m)\u001b[49m \u001b[38;5;28;01mfor\u001b[39;00m statement \u001b[38;5;129;01min\u001b[39;00m ctx.statement()]\n\u001b[32m    190\u001b[39m     \u001b[38;5;28;01mreturn\u001b[39;00m ast.Program(statements=statements, version=version)\n",
      "\u001b[36mFile \u001b[39m\u001b[32mc:\\Users\\USER\\AppData\\Local\\Programs\\Python\\Python312\\Lib\\site-packages\\antlr4\\tree\\Tree.py:34\u001b[39m, in \u001b[36mParseTreeVisitor.visit\u001b[39m\u001b[34m(self, tree)\u001b[39m\n\u001b[32m     33\u001b[39m \u001b[38;5;28;01mdef\u001b[39;00m\u001b[38;5;250m \u001b[39m\u001b[34mvisit\u001b[39m(\u001b[38;5;28mself\u001b[39m, tree):\n\u001b[32m---> \u001b[39m\u001b[32m34\u001b[39m     \u001b[38;5;28;01mreturn\u001b[39;00m \u001b[43mtree\u001b[49m\u001b[43m.\u001b[49m\u001b[43maccept\u001b[49m\u001b[43m(\u001b[49m\u001b[38;5;28;43mself\u001b[39;49m\u001b[43m)\u001b[49m\n",
      "\u001b[36mFile \u001b[39m\u001b[32mc:\\Users\\USER\\AppData\\Local\\Programs\\Python\\Python312\\Lib\\site-packages\\braket\\default_simulator\\openqasm\\parser\\generated\\qasm3Parser.py:7643\u001b[39m, in \u001b[36mqasm3Parser.StatementContext.accept\u001b[39m\u001b[34m(self, visitor)\u001b[39m\n\u001b[32m   7641\u001b[39m \u001b[38;5;28;01mdef\u001b[39;00m\u001b[38;5;250m \u001b[39m\u001b[34maccept\u001b[39m(\u001b[38;5;28mself\u001b[39m, visitor: ParseTreeVisitor):\n\u001b[32m   7642\u001b[39m     \u001b[38;5;28;01mif\u001b[39;00m \u001b[38;5;28mhasattr\u001b[39m(visitor, \u001b[33m\"\u001b[39m\u001b[33mvisitStatement\u001b[39m\u001b[33m\"\u001b[39m):\n\u001b[32m-> \u001b[39m\u001b[32m7643\u001b[39m         \u001b[38;5;28;01mreturn\u001b[39;00m \u001b[43mvisitor\u001b[49m\u001b[43m.\u001b[49m\u001b[43mvisitStatement\u001b[49m\u001b[43m(\u001b[49m\u001b[38;5;28;43mself\u001b[39;49m\u001b[43m)\u001b[49m\n\u001b[32m   7644\u001b[39m     \u001b[38;5;28;01melse\u001b[39;00m:\n\u001b[32m   7645\u001b[39m         \u001b[38;5;28;01mreturn\u001b[39;00m visitor.visitChildren(\u001b[38;5;28mself\u001b[39m)\n",
      "\u001b[36mFile \u001b[39m\u001b[32mc:\\Users\\USER\\AppData\\Local\\Programs\\Python\\Python312\\Lib\\site-packages\\braket\\default_simulator\\openqasm\\parser\\openqasm_parser.py:124\u001b[39m, in \u001b[36mspan.<locals>.wrapped\u001b[39m\u001b[34m(*args, **kwargs)\u001b[39m\n\u001b[32m    122\u001b[39m \u001b[38;5;28;01mdef\u001b[39;00m\u001b[38;5;250m \u001b[39m\u001b[34mwrapped\u001b[39m(*args, **kwargs):\n\u001b[32m    123\u001b[39m     span = get_span(args[\u001b[32m1\u001b[39m])  \u001b[38;5;66;03m# args[1] is ctx\u001b[39;00m\n\u001b[32m--> \u001b[39m\u001b[32m124\u001b[39m     node = \u001b[43mfunc\u001b[49m\u001b[43m(\u001b[49m\u001b[43m*\u001b[49m\u001b[43margs\u001b[49m\u001b[43m,\u001b[49m\u001b[43m \u001b[49m\u001b[43m*\u001b[49m\u001b[43m*\u001b[49m\u001b[43mkwargs\u001b[49m\u001b[43m)\u001b[49m\n\u001b[32m    125\u001b[39m     \u001b[38;5;28;01mif\u001b[39;00m node \u001b[38;5;129;01mis\u001b[39;00m \u001b[38;5;28;01mNone\u001b[39;00m:\n\u001b[32m    126\u001b[39m         \u001b[38;5;28;01mraise\u001b[39;00m \u001b[38;5;167;01mValueError\u001b[39;00m(\u001b[33mf\u001b[39m\u001b[33m\"\u001b[39m\u001b[33mNone encountered at \u001b[39m\u001b[38;5;132;01m{\u001b[39;00mspan\u001b[38;5;132;01m}\u001b[39;00m\u001b[33m\"\u001b[39m)\n",
      "\u001b[36mFile \u001b[39m\u001b[32mc:\\Users\\USER\\AppData\\Local\\Programs\\Python\\Python312\\Lib\\site-packages\\braket\\default_simulator\\openqasm\\parser\\openqasm_parser.py:196\u001b[39m, in \u001b[36mQASMNodeVisitor.visitStatement\u001b[39m\u001b[34m(self, ctx)\u001b[39m\n\u001b[32m    194\u001b[39m \u001b[38;5;28;01mif\u001b[39;00m ctx.pragma():\n\u001b[32m    195\u001b[39m     \u001b[38;5;28;01mreturn\u001b[39;00m \u001b[38;5;28mself\u001b[39m.visit(ctx.pragma())\n\u001b[32m--> \u001b[39m\u001b[32m196\u001b[39m out = \u001b[38;5;28;43mself\u001b[39;49m\u001b[43m.\u001b[49m\u001b[43mvisit\u001b[49m\u001b[43m(\u001b[49m\u001b[43mctx\u001b[49m\u001b[43m.\u001b[49m\u001b[43mgetChild\u001b[49m\u001b[43m(\u001b[49m\u001b[43m-\u001b[49m\u001b[32;43m1\u001b[39;49m\u001b[43m)\u001b[49m\u001b[43m)\u001b[49m\n\u001b[32m    197\u001b[39m out.annotations = [\u001b[38;5;28mself\u001b[39m.visit(annotation) \u001b[38;5;28;01mfor\u001b[39;00m annotation \u001b[38;5;129;01min\u001b[39;00m ctx.annotation()]\n\u001b[32m    198\u001b[39m \u001b[38;5;28;01mreturn\u001b[39;00m out\n",
      "\u001b[36mFile \u001b[39m\u001b[32mc:\\Users\\USER\\AppData\\Local\\Programs\\Python\\Python312\\Lib\\site-packages\\antlr4\\tree\\Tree.py:34\u001b[39m, in \u001b[36mParseTreeVisitor.visit\u001b[39m\u001b[34m(self, tree)\u001b[39m\n\u001b[32m     33\u001b[39m \u001b[38;5;28;01mdef\u001b[39;00m\u001b[38;5;250m \u001b[39m\u001b[34mvisit\u001b[39m(\u001b[38;5;28mself\u001b[39m, tree):\n\u001b[32m---> \u001b[39m\u001b[32m34\u001b[39m     \u001b[38;5;28;01mreturn\u001b[39;00m \u001b[43mtree\u001b[49m\u001b[43m.\u001b[49m\u001b[43maccept\u001b[49m\u001b[43m(\u001b[49m\u001b[38;5;28;43mself\u001b[39;49m\u001b[43m)\u001b[49m\n",
      "\u001b[36mFile \u001b[39m\u001b[32mc:\\Users\\USER\\AppData\\Local\\Programs\\Python\\Python312\\Lib\\site-packages\\braket\\default_simulator\\openqasm\\parser\\generated\\qasm3Parser.py:8974\u001b[39m, in \u001b[36mqasm3Parser.GateCallStatementContext.accept\u001b[39m\u001b[34m(self, visitor)\u001b[39m\n\u001b[32m   8972\u001b[39m \u001b[38;5;28;01mdef\u001b[39;00m\u001b[38;5;250m \u001b[39m\u001b[34maccept\u001b[39m(\u001b[38;5;28mself\u001b[39m, visitor: ParseTreeVisitor):\n\u001b[32m   8973\u001b[39m     \u001b[38;5;28;01mif\u001b[39;00m \u001b[38;5;28mhasattr\u001b[39m(visitor, \u001b[33m\"\u001b[39m\u001b[33mvisitGateCallStatement\u001b[39m\u001b[33m\"\u001b[39m):\n\u001b[32m-> \u001b[39m\u001b[32m8974\u001b[39m         \u001b[38;5;28;01mreturn\u001b[39;00m \u001b[43mvisitor\u001b[49m\u001b[43m.\u001b[49m\u001b[43mvisitGateCallStatement\u001b[49m\u001b[43m(\u001b[49m\u001b[38;5;28;43mself\u001b[39;49m\u001b[43m)\u001b[49m\n\u001b[32m   8975\u001b[39m     \u001b[38;5;28;01melse\u001b[39;00m:\n\u001b[32m   8976\u001b[39m         \u001b[38;5;28;01mreturn\u001b[39;00m visitor.visitChildren(\u001b[38;5;28mself\u001b[39m)\n",
      "\u001b[36mFile \u001b[39m\u001b[32mc:\\Users\\USER\\AppData\\Local\\Programs\\Python\\Python312\\Lib\\site-packages\\braket\\default_simulator\\openqasm\\parser\\openqasm_parser.py:124\u001b[39m, in \u001b[36mspan.<locals>.wrapped\u001b[39m\u001b[34m(*args, **kwargs)\u001b[39m\n\u001b[32m    122\u001b[39m \u001b[38;5;28;01mdef\u001b[39;00m\u001b[38;5;250m \u001b[39m\u001b[34mwrapped\u001b[39m(*args, **kwargs):\n\u001b[32m    123\u001b[39m     span = get_span(args[\u001b[32m1\u001b[39m])  \u001b[38;5;66;03m# args[1] is ctx\u001b[39;00m\n\u001b[32m--> \u001b[39m\u001b[32m124\u001b[39m     node = \u001b[43mfunc\u001b[49m\u001b[43m(\u001b[49m\u001b[43m*\u001b[49m\u001b[43margs\u001b[49m\u001b[43m,\u001b[49m\u001b[43m \u001b[49m\u001b[43m*\u001b[49m\u001b[43m*\u001b[49m\u001b[43mkwargs\u001b[49m\u001b[43m)\u001b[49m\n\u001b[32m    125\u001b[39m     \u001b[38;5;28;01mif\u001b[39;00m node \u001b[38;5;129;01mis\u001b[39;00m \u001b[38;5;28;01mNone\u001b[39;00m:\n\u001b[32m    126\u001b[39m         \u001b[38;5;28;01mraise\u001b[39;00m \u001b[38;5;167;01mValueError\u001b[39;00m(\u001b[33mf\u001b[39m\u001b[33m\"\u001b[39m\u001b[33mNone encountered at \u001b[39m\u001b[38;5;132;01m{\u001b[39;00mspan\u001b[38;5;132;01m}\u001b[39;00m\u001b[33m\"\u001b[39m)\n",
      "\u001b[36mFile \u001b[39m\u001b[32mc:\\Users\\USER\\AppData\\Local\\Programs\\Python\\Python312\\Lib\\site-packages\\braket\\default_simulator\\openqasm\\parser\\openqasm_parser.py:418\u001b[39m, in \u001b[36mQASMNodeVisitor.visitGateCallStatement\u001b[39m\u001b[34m(self, ctx)\u001b[39m\n\u001b[32m    408\u001b[39m arguments = (\n\u001b[32m    409\u001b[39m     [\u001b[38;5;28mself\u001b[39m.visit(argument) \u001b[38;5;28;01mfor\u001b[39;00m argument \u001b[38;5;129;01min\u001b[39;00m ctx.expressionList().expression()]\n\u001b[32m    410\u001b[39m     \u001b[38;5;28;01mif\u001b[39;00m ctx.expressionList()\n\u001b[32m    411\u001b[39m     \u001b[38;5;28;01melse\u001b[39;00m []\n\u001b[32m    412\u001b[39m )\n\u001b[32m    413\u001b[39m qubits = (\n\u001b[32m    414\u001b[39m     [\u001b[38;5;28mself\u001b[39m.visit(operand) \u001b[38;5;28;01mfor\u001b[39;00m operand \u001b[38;5;129;01min\u001b[39;00m ctx.gateOperandList().gateOperand()]\n\u001b[32m    415\u001b[39m     \u001b[38;5;28;01mif\u001b[39;00m ctx.gateOperandList()\n\u001b[32m    416\u001b[39m     \u001b[38;5;28;01melse\u001b[39;00m []\n\u001b[32m    417\u001b[39m )\n\u001b[32m--> \u001b[39m\u001b[32m418\u001b[39m \u001b[38;5;28;01mif\u001b[39;00m \u001b[43mctx\u001b[49m\u001b[43m.\u001b[49m\u001b[43mGPHASE\u001b[49m\u001b[43m(\u001b[49m\u001b[43m)\u001b[49m:\n\u001b[32m    419\u001b[39m     \u001b[38;5;28;01mif\u001b[39;00m \u001b[38;5;28mlen\u001b[39m(arguments) != \u001b[32m1\u001b[39m:\n\u001b[32m    420\u001b[39m         _raise_from_context(\n\u001b[32m    421\u001b[39m             ctx, \u001b[33mf\u001b[39m\u001b[33m\"\u001b[39m\u001b[33m'\u001b[39m\u001b[33mgphase\u001b[39m\u001b[33m'\u001b[39m\u001b[33m takes exactly one argument, but received \u001b[39m\u001b[38;5;132;01m{\u001b[39;00marguments\u001b[38;5;132;01m}\u001b[39;00m\u001b[33m\"\u001b[39m\n\u001b[32m    422\u001b[39m         )\n",
      "\u001b[36mFile \u001b[39m\u001b[32mc:\\Users\\USER\\AppData\\Local\\Programs\\Python\\Python312\\Lib\\site-packages\\braket\\default_simulator\\openqasm\\parser\\generated\\qasm3Parser.py:8959\u001b[39m, in \u001b[36mqasm3Parser.GateCallStatementContext.GPHASE\u001b[39m\u001b[34m(self)\u001b[39m\n\u001b[32m   8958\u001b[39m \u001b[38;5;28;01mdef\u001b[39;00m\u001b[38;5;250m \u001b[39m\u001b[34mGPHASE\u001b[39m(\u001b[38;5;28mself\u001b[39m):\n\u001b[32m-> \u001b[39m\u001b[32m8959\u001b[39m     \u001b[38;5;28;01mreturn\u001b[39;00m \u001b[38;5;28;43mself\u001b[39;49m\u001b[43m.\u001b[49m\u001b[43mgetToken\u001b[49m\u001b[43m(\u001b[49m\u001b[43mqasm3Parser\u001b[49m\u001b[43m.\u001b[49m\u001b[43mGPHASE\u001b[49m\u001b[43m,\u001b[49m\u001b[43m \u001b[49m\u001b[32;43m0\u001b[39;49m\u001b[43m)\u001b[49m\n",
      "\u001b[36mFile \u001b[39m\u001b[32mc:\\Users\\USER\\AppData\\Local\\Programs\\Python\\Python312\\Lib\\site-packages\\antlr4\\ParserRuleContext.py:134\u001b[39m, in \u001b[36mParserRuleContext.getToken\u001b[39m\u001b[34m(self, ttype, i)\u001b[39m\n\u001b[32m    133\u001b[39m \u001b[38;5;28;01mdef\u001b[39;00m\u001b[38;5;250m \u001b[39m\u001b[34mgetToken\u001b[39m(\u001b[38;5;28mself\u001b[39m, ttype:\u001b[38;5;28mint\u001b[39m, i:\u001b[38;5;28mint\u001b[39m):\n\u001b[32m--> \u001b[39m\u001b[32m134\u001b[39m \u001b[43m    \u001b[49m\u001b[38;5;28;43;01mfor\u001b[39;49;00m\u001b[43m \u001b[49m\u001b[43mchild\u001b[49m\u001b[43m \u001b[49m\u001b[38;5;129;43;01min\u001b[39;49;00m\u001b[43m \u001b[49m\u001b[38;5;28;43mself\u001b[39;49m\u001b[43m.\u001b[49m\u001b[43mgetChildren\u001b[49m\u001b[43m(\u001b[49m\u001b[43m)\u001b[49m\u001b[43m:\u001b[49m\n\u001b[32m    135\u001b[39m \u001b[43m        \u001b[49m\u001b[38;5;28;43;01mif\u001b[39;49;00m\u001b[43m \u001b[49m\u001b[38;5;129;43;01mnot\u001b[39;49;00m\u001b[43m \u001b[49m\u001b[38;5;28;43misinstance\u001b[39;49m\u001b[43m(\u001b[49m\u001b[43mchild\u001b[49m\u001b[43m,\u001b[49m\u001b[43m \u001b[49m\u001b[43mTerminalNode\u001b[49m\u001b[43m)\u001b[49m\u001b[43m:\u001b[49m\n\u001b[32m    136\u001b[39m \u001b[43m            \u001b[49m\u001b[38;5;28;43;01mcontinue\u001b[39;49;00m\n",
      "\u001b[36mFile \u001b[39m\u001b[32mc:\\Users\\USER\\AppData\\Local\\Programs\\Python\\Python312\\Lib\\site-packages\\antlr4\\ParserRuleContext.py:131\u001b[39m, in \u001b[36mParserRuleContext.getChildren\u001b[39m\u001b[34m(self, predicate)\u001b[39m\n\u001b[32m    129\u001b[39m \u001b[38;5;28;01mif\u001b[39;00m predicate \u001b[38;5;129;01mis\u001b[39;00m \u001b[38;5;129;01mnot\u001b[39;00m \u001b[38;5;28;01mNone\u001b[39;00m \u001b[38;5;129;01mand\u001b[39;00m \u001b[38;5;129;01mnot\u001b[39;00m predicate(child):\n\u001b[32m    130\u001b[39m     \u001b[38;5;28;01mcontinue\u001b[39;00m\n\u001b[32m--> \u001b[39m\u001b[32m131\u001b[39m \u001b[38;5;28;01myield\u001b[39;00m child\n",
      "\u001b[31mKeyboardInterrupt\u001b[39m: "
     ]
    }
   ],
   "source": [
    "data_size = [10*i for i in range(2,11)]\n",
    "kernel_option = [\"Classical\", \"ZFeatureMap\"]\n",
    "results = []\n",
    "rounds = 2\n",
    "\n",
    "for size in data_size:\n",
    "    accuracies, times, mems = (np.zeros(len(kernel_option)) for _ in range(3))\n",
    "\n",
    "    for round in range(rounds):\n",
    "        x, y = make_data.generate_xor_data(size, noise = 0.1)\n",
    "        x_train, x_test, y_train, y_test = make_data.engineer_split_set(x,y)\n",
    "\n",
    "        for idx, option in enumerate(kernel_option):\n",
    "            if option == \"Classical\":\n",
    "                acc, time_exec, peak_mem = classical_algo.classic(x_train, x_test, y_train, y_test)\n",
    "            else:\n",
    "                acc, time_exec, peak_mem = hybrid_algo(x_train, x_test, y_train, y_test, reps=1, use_inner_product= False)\n",
    "\n",
    "            print(\"\\n{} encoding + classical SVM size {}: Round {}\".format(option,size, round + 1))\n",
    "            print(\"  Accuracy:\", acc)\n",
    "            print(\"  Execution time (sec):\", time_exec)\n",
    "            print(f\"  Peak Memory Usage = {peak_mem/1024/1024:.4f} MB\")\n",
    "\n",
    "            accuracies[idx] += acc\n",
    "            times[idx] += time_exec\n",
    "            mems[idx] += peak_mem\n",
    "    \n",
    "    accuracies/=rounds\n",
    "    times/=rounds\n",
    "    mems/=rounds\n",
    "\n",
    "    for idx, option in enumerate(kernel_option):\n",
    "        results.append((size, option, accuracies[idx], times[idx], mems[idx]))"
   ]
  },
  {
   "cell_type": "markdown",
   "id": "73477aa8",
   "metadata": {},
   "source": [
    "## V. Graph"
   ]
  },
  {
   "cell_type": "code",
   "execution_count": null,
   "id": "6aba3240",
   "metadata": {},
   "outputs": [
    {
     "data": {
      "image/png": "[encoded data removed]",
      "text/plain": [
       "<Figure size 800x600 with 1 Axes>"
      ]
     },
     "metadata": {},
     "output_type": "display_data"
    }
   ],
   "source": [
    "data_sizes, encodings, accuracies, times, mems = zip(*results)\n",
    "unique_encodings = list(dict.fromkeys(encodings))  \n",
    "\n",
    "plt.figure(figsize=(8,6))\n",
    "\n",
    "for option in unique_encodings:\n",
    "    x_vals = [s for s, e in zip(data_sizes, encodings) if e == option]\n",
    "    y_vals = [a for a, e in zip(accuracies, encodings) if e == option]\n",
    "\n",
    "    plt.plot(x_vals, y_vals, 'o-', label=option)\n",
    "\n",
    "plt.xlabel(\"Data Sizes\")\n",
    "plt.ylabel(\"Accuracy\")\n",
    "plt.title(\"Data Sizes vs Accuracy (Classical & Quantum Encodings)\")\n",
    "plt.legend()\n",
    "plt.grid(True)\n",
    "plt.show()"
   ]
  },
  {
   "cell_type": "markdown",
   "id": "e3d7137f",
   "metadata": {},
   "source": [
    "## 6. Store Data"
   ]
  },
  {
   "cell_type": "code",
   "execution_count": null,
   "id": "5e6de2d7",
   "metadata": {},
   "outputs": [],
   "source": [
    "platform = \"braket\"\n",
    "record_folder = \"../Record Data\"\n",
    "\n",
    "os.makedirs(record_folder, exist_ok=True)\n",
    "\n",
    "with open(os.path.join(record_folder, \"time_executions.csv\"), mode=\"a\", newline=\"\") as file:\n",
    "    writer = csv.writer(file)\n",
    "    for i, t in enumerate(times):\n",
    "        if i%2 !=0: writer.writerow([platform, data_sizes[i], t])\n",
    "\n",
    "with open(os.path.join(record_folder, \"memory_usage.csv\"), mode=\"a\", newline=\"\") as file:\n",
    "    writer = csv.writer(file)\n",
    "    for i, t in enumerate(mems):\n",
    "        if i%2 !=0: writer.writerow([platform, data_sizes[i], t/1024/1024])"
   ]
  }
 ],
 "metadata": {
  "kernelspec": {
   "display_name": "Python 3",
   "language": "python",
   "name": "python3"
  },
  "language_info": {
   "codemirror_mode": {
    "name": "ipython",
    "version": 3
   },
   "file_extension": ".py",
   "mimetype": "text/x-python",
   "name": "python",
   "nbconvert_exporter": "python",
   "pygments_lexer": "ipython3",
   "version": "3.12.10"
  }
 },
 "nbformat": 4,
 "nbformat_minor": 5
}
